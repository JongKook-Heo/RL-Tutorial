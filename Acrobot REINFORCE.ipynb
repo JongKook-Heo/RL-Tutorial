{
 "cells": [
  {
   "cell_type": "code",
   "execution_count": 1,
   "metadata": {},
   "outputs": [],
   "source": [
    "import gym\n",
    "import numpy as np\n",
    "from itertools import count\n",
    "import matplotlib.pyplot as plt\n",
    "\n",
    "import torch\n",
    "import torch.nn as nn\n",
    "import torch.nn.functional as F\n",
    "import torch.optim as optim\n",
    "from torch.distributions import Categorical"
   ]
  },
  {
   "cell_type": "code",
   "execution_count": 2,
   "metadata": {},
   "outputs": [
    {
     "name": "stderr",
     "output_type": "stream",
     "text": [
      "C:\\Users\\K\\Anaconda3\\envs\\tf\\lib\\site-packages\\gym\\logger.py:30: UserWarning: \u001b[33mWARN: Box bound precision lowered by casting to float32\u001b[0m\n",
      "  warnings.warn(colorize('%s: %s'%('WARN', msg % args), 'yellow'))\n"
     ]
    }
   ],
   "source": [
    "lr = 0.01\n",
    "gamma = 0.99\n",
    "log_interval = 10\n",
    "\n",
    "env = gym.make('Acrobot-v1')\n",
    "env = env.unwrapped\n",
    "N_actions = env.action_space.n\n",
    "N_states = env.observation_space.shape[0]"
   ]
  },
  {
   "cell_type": "code",
   "execution_count": 72,
   "metadata": {},
   "outputs": [],
   "source": [
    "class Policy(nn.Module):\n",
    "    def __init__(self):\n",
    "        super(Policy, self).__init__()\n",
    "        self.eps = None\n",
    "        self.optimizer = None\n",
    "        \n",
    "        self.fc1 = nn.Linear(N_states, 256)\n",
    "        self.fc1.weight.data.normal_(0, 0.1)\n",
    "        self.fc2 = nn.Linear(256, 128)\n",
    "        self.fc2.weight.data.normal_(0, 0.1)\n",
    "        self.fc3 = nn.Linear(128, 32)\n",
    "        self.fc3.weight.data.normal_(0, 0.1)\n",
    "        self.out = nn.Linear(32, N_actions)\n",
    "        self.out.weight.data.normal_(0, 0.1)\n",
    "        \n",
    "        self.saved_log_probs = []\n",
    "        self.rewards = []\n",
    "        \n",
    "    def forward(self, x):\n",
    "        x = F.relu(self.fc1(x))\n",
    "        x = F.relu(self.fc2(x))\n",
    "        x = F.relu(self.fc3(x))\n",
    "        actions_value = self.out(x)\n",
    "        actions_policy = F.softmax(actions_value, dim = 1)\n",
    "        return actions_policy\n",
    "    \n",
    "    def select_action(self, x):\n",
    "        state = torch.from_numpy(x).float().view(-1,N_states)\n",
    "        probs = self.forward(state)\n",
    "        m = Categorical(probs)\n",
    "        action = m.sample()\n",
    "        self.saved_log_probs.append(m.log_prob(action))\n",
    "        return action.item()\n",
    "    \n",
    "    def finish_episode(self):\n",
    "        G = 0\n",
    "        policy_loss = []\n",
    "        returns = []\n",
    "        for r in self.rewards[::-1]:\n",
    "            G = r + gamma * G\n",
    "            returns.insert(0, G)\n",
    "        \n",
    "        returns = torch.tensor(returns)\n",
    "        returns = (returns -  returns.mean())/(returns.std() + self.eps)\n",
    "        for log_prob, G in zip(self.saved_log_probs, returns):\n",
    "            policy_loss.append(-log_prob * G)\n",
    "        self.optimizer.zero_grad()\n",
    "        policy_loss = torch.cat(policy_loss).sum()\n",
    "        policy_loss.backward()\n",
    "        self.optimizer.step()\n",
    "        del self.rewards[:]\n",
    "        del self.saved_log_probs[:]"
   ]
  },
  {
   "cell_type": "code",
   "execution_count": 103,
   "metadata": {},
   "outputs": [],
   "source": [
    "def main():\n",
    "    policy = Policy()\n",
    "    policy.optimizer = optim.Adam(policy.parameters(), lr =lr)\n",
    "    policy.eps = np.finfo(np.float32).eps.item()\n",
    "    \n",
    "    episode = []\n",
    "    time = []\n",
    "    re = []\n",
    "    running_reward = 10\n",
    "    for i_episode in range(200):\n",
    "        state = env.reset()\n",
    "        ep_reward = 0\n",
    "        for t in range(1, 10000):\n",
    "            env.render()\n",
    "            action = policy.select_action(state)\n",
    "            state, reward, done, info = env.step(action)\n",
    "            \n",
    "            policy.rewards.append(reward)\n",
    "            ep_reward += reward\n",
    "            if done:\n",
    "                break\n",
    "                \n",
    "        episode.append(i_episode)\n",
    "        \n",
    "        #running_reward = 0.05 * ep_reward + (1 - 0.05) * running_reward\n",
    "        #re.append(running_reward)  \n",
    "        time.append(-1 * ep_reward)\n",
    "        policy.finish_episode()\n",
    "        if i_episode % log_interval ==0:\n",
    "            print('Ep {}\\t Elapsed time: {:.2f}'.format(\n",
    "            i_episode, ep_reward))\n",
    "    env.close()\n",
    "    \n",
    "    plt.title(\"Acrobot rewards\")\n",
    "    plt.plot(episode, time)\n",
    "    plt.xlabel(\"episode\")\n",
    "    plt.ylabel(\"elapsed times\")\n",
    "    plt.show()            "
   ]
  },
  {
   "cell_type": "code",
   "execution_count": 104,
   "metadata": {},
   "outputs": [
    {
     "name": "stdout",
     "output_type": "stream",
     "text": [
      "Ep 0\t Elapsed time: -1029.00\n",
      "Ep 10\t Elapsed time: -135.00\n",
      "Ep 20\t Elapsed time: -310.00\n",
      "Ep 30\t Elapsed time: -285.00\n",
      "Ep 40\t Elapsed time: -230.00\n",
      "Ep 50\t Elapsed time: -146.00\n",
      "Ep 60\t Elapsed time: -131.00\n",
      "Ep 70\t Elapsed time: -138.00\n",
      "Ep 80\t Elapsed time: -157.00\n",
      "Ep 90\t Elapsed time: -148.00\n",
      "Ep 100\t Elapsed time: -152.00\n",
      "Ep 110\t Elapsed time: -120.00\n",
      "Ep 120\t Elapsed time: -1391.00\n",
      "Ep 130\t Elapsed time: -199.00\n",
      "Ep 140\t Elapsed time: -399.00\n",
      "Ep 150\t Elapsed time: -290.00\n",
      "Ep 160\t Elapsed time: -143.00\n",
      "Ep 170\t Elapsed time: -446.00\n",
      "Ep 180\t Elapsed time: -2486.00\n",
      "Ep 190\t Elapsed time: -181.00\n"
     ]
    },
    {
     "data": {
      "image/png": "[encoded data removed]",
      "text/plain": [
       "<Figure size 432x288 with 1 Axes>"
      ]
     },
     "metadata": {
      "needs_background": "light"
     },
     "output_type": "display_data"
    }
   ],
   "source": [
    "main()"
   ]
  },
  {
   "cell_type": "code",
   "execution_count": 62,
   "metadata": {},
   "outputs": [
    {
     "data": {
      "text/plain": [
       "tensor([2])"
      ]
     },
     "execution_count": 62,
     "metadata": {},
     "output_type": "execute_result"
    }
   ],
   "source": [
    "action = c.sample()\n",
    "action"
   ]
  },
  {
   "cell_type": "code",
   "execution_count": 102,
   "metadata": {},
   "outputs": [],
   "source": [
    "env.close()"
   ]
  },
  {
   "cell_type": "code",
   "execution_count": 71,
   "metadata": {},
   "outputs": [
    {
     "data": {
      "text/plain": [
       "tensor([-1.0712], grad_fn=<SqueezeBackward1>)"
      ]
     },
     "execution_count": 71,
     "metadata": {},
     "output_type": "execute_result"
    }
   ],
   "source": [
    "c.log_prob(torch.from_numpy(np.array(1)))"
   ]
  },
  {
   "cell_type": "code",
   "execution_count": 70,
   "metadata": {},
   "outputs": [
    {
     "data": {
      "text/plain": [
       "tensor([-1.1366], grad_fn=<SqueezeBackward1>)"
      ]
     },
     "execution_count": 70,
     "metadata": {},
     "output_type": "execute_result"
    }
   ],
   "source": [
    "c.log_prob(action\n",
    "          )"
   ]
  }
 ],
 "metadata": {
  "kernelspec": {
   "display_name": "Pytorch",
   "language": "python",
   "name": "tf"
  },
  "language_info": {
   "codemirror_mode": {
    "name": "ipython",
    "version": 3
   },
   "file_extension": ".py",
   "mimetype": "text/x-python",
   "name": "python",
   "nbconvert_exporter": "python",
   "pygments_lexer": "ipython3",
   "version": "3.6.10"
  }
 },
 "nbformat": 4,
 "nbformat_minor": 2
}
